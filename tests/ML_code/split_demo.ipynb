{
 "cells": [
  {
   "cell_type": "code",
   "execution_count": 71,
   "metadata": {},
   "outputs": [],
   "source": [
    "from sklearn import preprocessing, linear_model, metrics\n",
    "from sklearn.model_selection import train_test_split\n",
    "import pandas as pd\n",
    "import numpy as np"
   ]
  },
  {
   "cell_type": "code",
   "execution_count": 72,
   "metadata": {},
   "outputs": [],
   "source": [
    "#train_data = pd.read_csv(\"../../data/train_data.tsv\", sep=\"\\t\")\n",
    "#test_data = pd.read_csv(\"../../data/test_data.tsv\", sep=\"\\t\")\n",
    "data = pd.read_csv(\"../../data/regression_data.tsv\", sep=\"\\t\")"
   ]
  },
  {
   "cell_type": "code",
   "execution_count": 73,
   "metadata": {},
   "outputs": [
    {
     "name": "stdout",
     "output_type": "stream",
     "text": [
      "(631, 3)\n",
      "(504, 41)\n",
      "[array(['autonomic_ganglia', 'biliary_tract', 'bone', 'breast',\n",
      "       'central_nervous_system', 'endometrium',\n",
      "       'haematopoietic_and_lymphoid_tissue', 'kidney', 'large_intestine',\n",
      "       'liver', 'lung', 'oesophagus', 'ovary', 'pancreas', 'pleura',\n",
      "       'prostate', 'salivary_gland', 'skin', 'soft_tissue', 'stomach',\n",
      "       'thyroid', 'upper_aerodigestive_tract', 'urinary_tract'],\n",
      "      dtype=object), array(['Ewings_sarcoma_peripheral_primitive_neuroectodermal_tumor',\n",
      "       'carcinoid_endocrine_tumor', 'carcinoma', 'chondrosarcoma',\n",
      "       'glioma', 'haematopoietic_neoplasm', 'leiomyosarcoma',\n",
      "       'lymphoid_neoplasm',\n",
      "       'malignant_fibrous_histiocytoma_pleomorphic_sarcoma',\n",
      "       'malignant_melanoma', 'mesothelioma', 'neuroblastoma',\n",
      "       'osteosarcoma', 'primitive_neuroectodermal_tumor_medulloblastoma',\n",
      "       'rhabdoid_tumor', 'rhabdomyosarcoma', 'sarcoma',\n",
      "       'sex_cord_stromal_tumor'], dtype=object)]\n"
     ]
    }
   ],
   "source": [
    "encoder = preprocessing.OneHotEncoder(handle_unknown='infrequent_if_exist')\n",
    "\n",
    "#rotate this between the different drug sensitivities... do i have to do all 400+??? \n",
    "#how large are these models to store? could i still deploy them?\n",
    "response = 'zebularine_AUC'\n",
    "\n",
    "#encoding the features: leave the response variable out, just preprocessing the features\n",
    "relevant_data = data[['site', 'histology', response]].dropna()\n",
    "print(relevant_data.shape)\n",
    "\n",
    "#separate (raw) predictors and response variables\n",
    "X = np.array(relevant_data[['site', 'histology']])\n",
    "y = np.array(relevant_data[response])\n",
    "\n",
    "#split data into train and test\n",
    "train_X_raw, test_X_raw, train_y, test_y = train_test_split(X, y, test_size=0.2, random_state=42)  \n",
    "\n",
    "#fit encoder to categories of the train dataset only\n",
    "encoder.fit(train_X_raw)\n",
    "\n",
    "#transform train and test data sets, introducing dummy features and new values\n",
    "train_X_enc = encoder.transform(train_X_raw).toarray()\n",
    "test_X_enc = encoder.transform(test_X_raw).toarray()\n",
    "print(train_X_enc.shape)\n",
    "print(encoder.categories_)"
   ]
  },
  {
   "cell_type": "code",
   "execution_count": 75,
   "metadata": {},
   "outputs": [
    {
     "name": "stdout",
     "output_type": "stream",
     "text": [
      "[ 1.45156250e+01  1.45156250e+01  1.44843750e+01  1.47500000e+01\n",
      "  1.43984375e+01  1.43203125e+01  1.48437500e+01  1.47500000e+01\n",
      "  1.43203125e+01  1.44375000e+01  1.41796875e+01  1.43203125e+01\n",
      "  1.44843750e+01  1.45156250e+01  1.43984375e+01  1.41406250e+01\n",
      "  1.41796875e+01  1.45156250e+01  1.42089844e+01  1.43984375e+01\n",
      "  1.46718750e+01  1.44375000e+01  1.44375000e+01  1.45312500e+01\n",
      "  1.43203125e+01  1.46347656e+01  1.46718750e+01  1.46718750e+01\n",
      "  1.41796875e+01  1.43984375e+01  1.44375000e+01  1.40937500e+01\n",
      "  1.46347656e+01  1.43984375e+01  1.43984375e+01  1.46347656e+01\n",
      "  1.43203125e+01  1.48515625e+01  1.45312500e+01  1.43203125e+01\n",
      "  1.43203125e+01  1.44375000e+01  1.43203125e+01  1.43984375e+01\n",
      "  1.43203125e+01  1.43203125e+01  1.46347656e+01  1.40937500e+01\n",
      "  1.44375000e+01  1.44062500e+01  1.45312500e+01  1.44375000e+01\n",
      "  1.33828125e+01  1.41406250e+01  1.43203125e+01  1.44062500e+01\n",
      "  1.45312500e+01  1.46718750e+01  1.44062500e+01  1.27500000e+01\n",
      "  1.43203125e+01  1.44375000e+01  1.43203125e+01  1.41796875e+01\n",
      "  1.43203125e+01  1.43203125e+01  1.44375000e+01  1.48828125e+01\n",
      "  1.48828125e+01  1.41406250e+01  1.43984375e+01  1.48828125e+01\n",
      "  1.56230469e+01  1.45156250e+01  1.45156250e+01  1.33828125e+01\n",
      "  1.40937500e+01  1.47500000e+01  1.45000000e+01  1.46718750e+01\n",
      "  1.44375000e+01  1.43203125e+01  1.43203125e+01  1.44375000e+01\n",
      "  1.43984375e+01  1.44843750e+01  1.44062500e+01  1.43203125e+01\n",
      "  1.45156250e+01  1.44375000e+01  1.47500000e+01  1.48828125e+01\n",
      "  1.43203125e+01  1.40937500e+01  1.44375000e+01  1.45156250e+01\n",
      "  1.47500000e+01  1.45156250e+01  1.47500000e+01  1.40937500e+01\n",
      "  1.45566406e+01  1.43984375e+01  1.44375000e+01 -1.81403518e+13\n",
      "  1.44062500e+01  1.43984375e+01  1.43984375e+01  1.46347656e+01\n",
      "  1.43203125e+01  1.38984375e+01  1.45156250e+01  1.42089844e+01\n",
      "  1.46718750e+01  1.43203125e+01  1.44375000e+01  1.45156250e+01\n",
      "  1.44062500e+01  1.47500000e+01  1.40937500e+01  1.46718750e+01\n",
      "  1.43945312e+01  1.45390625e+01  1.44375000e+01  1.43203125e+01\n",
      "  1.43203125e+01  1.45156250e+01  1.45156250e+01]\n",
      "Mean squared error: 2591120969185095917240320.00\n",
      "Coefficient of determination: -2797369314242303319080960.00\n"
     ]
    }
   ],
   "source": [
    "#example regression: use one of the drug AUCs as the response\n",
    "model = linear_model.LinearRegression()\n",
    "model.fit(train_X_enc, train_y)\n",
    "\n",
    "y_predict = model.predict(test_X_enc)\n",
    "print(y_predict)\n",
    "# The coefficients\n",
    "#print(\"Coefficients: \\n\", regr.coef_)\n",
    "# The mean squared error\n",
    "print(\"Mean squared error: %.2f\" % metrics.mean_squared_error(test_y, y_predict))\n",
    "# The coefficient of determination: 1 is perfect prediction\n",
    "print(\"Coefficient of determination: %.2f\" % metrics.r2_score(test_y, y_predict))"
   ]
  }
 ],
 "metadata": {
  "kernelspec": {
   "display_name": "base",
   "language": "python",
   "name": "python3"
  },
  "language_info": {
   "codemirror_mode": {
    "name": "ipython",
    "version": 3
   },
   "file_extension": ".py",
   "mimetype": "text/x-python",
   "name": "python",
   "nbconvert_exporter": "python",
   "pygments_lexer": "ipython3",
   "version": "3.9.18"
  }
 },
 "nbformat": 4,
 "nbformat_minor": 2
}
